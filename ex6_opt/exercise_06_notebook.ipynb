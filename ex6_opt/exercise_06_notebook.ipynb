{
 "cells": [
  {
   "cell_type": "markdown",
   "metadata": {
    "heading_collapsed": true
   },
   "source": [
    "# Programming assignment 3: Optimization - Logistic Regression"
   ]
  },
  {
   "cell_type": "code",
   "execution_count": 207,
   "metadata": {
    "hidden": true
   },
   "outputs": [],
   "source": [
    "import numpy as np\n",
    "import matplotlib.pyplot as plt\n",
    "%matplotlib inline\n",
    "\n",
    "from sklearn.datasets import load_breast_cancer\n",
    "from sklearn.model_selection import train_test_split\n",
    "from sklearn.metrics import accuracy_score, f1_score"
   ]
  },
  {
   "cell_type": "markdown",
   "metadata": {
    "heading_collapsed": true,
    "hidden": true
   },
   "source": [
    "## Your task"
   ]
  },
  {
   "cell_type": "markdown",
   "metadata": {
    "hidden": true
   },
   "source": [
    "In this notebook code skeleton for performing logistic regression with gradient descent is given. \n",
    "Your task is to complete the functions where required. \n",
    "You are only allowed to use built-in Python functions, as well as any `numpy` functions. No other libraries / imports are allowed."
   ]
  },
  {
   "cell_type": "markdown",
   "metadata": {
    "hidden": true
   },
   "source": [
    "For numerical reasons, we actually minimize the following loss function\n",
    "\n",
    "$$\\mathcal{L}(\\mathbf{w}) = \\frac{1}{N} NLL(\\mathbf{w}) +  \\frac{1}{2}\\lambda ||\\mathbf{w}||^2_2$$\n",
    "\n",
    "where $NLL(\\mathbf{w})$ is the negative log-likelihood function, as defined in the lecture (see  Eq. 33)."
   ]
  },
  {
   "cell_type": "markdown",
   "metadata": {
    "heading_collapsed": true,
    "hidden": true
   },
   "source": [
    "## Exporting the results to PDF"
   ]
  },
  {
   "cell_type": "markdown",
   "metadata": {
    "hidden": true
   },
   "source": [
    "Once you complete the assignments, export the entire notebook as PDF and attach it to your homework solutions. \n",
    "The best way of doing that is\n",
    "1. Run all the cells of the notebook.\n",
    "2. Export/download the notebook as PDF (File -> Download as -> PDF via LaTeX (.pdf)).\n",
    "3. Concatenate your solutions for other tasks with the output of Step 2. On a Linux machine you can simply use `pdfunite`, there are similar tools for other platforms too. You can only upload a single PDF file to Moodle.\n",
    "\n",
    "Make sure you are using `nbconvert` Version 5.5 or later by running `jupyter nbconvert --version`. Older versions clip lines that exceed page width, which makes your code harder to grade."
   ]
  },
  {
   "cell_type": "markdown",
   "metadata": {
    "heading_collapsed": true,
    "hidden": true
   },
   "source": [
    "## Load and preprocess the data"
   ]
  },
  {
   "cell_type": "markdown",
   "metadata": {
    "hidden": true
   },
   "source": [
    "In this assignment we will work with the UCI ML Breast Cancer Wisconsin (Diagnostic) dataset https://goo.gl/U2Uwz2.\n",
    "\n",
    "Features are computed from a digitized image of a fine needle aspirate (FNA) of a breast mass. They describe characteristics of the cell nuclei present in the image. There are 212 malignant examples and 357 benign examples."
   ]
  },
  {
   "cell_type": "code",
   "execution_count": 208,
   "metadata": {
    "collapsed": true,
    "hidden": true
   },
   "outputs": [],
   "source": [
    "X, y = load_breast_cancer(return_X_y=True)\n",
    "\n",
    "# Add a vector of ones to the data matrix to absorb the bias term\n",
    "X = np.hstack([np.ones([X.shape[0], 1]), X])\n",
    "\n",
    "# Set the random seed so that we have reproducible experiments\n",
    "np.random.seed(123)\n",
    "\n",
    "# Split into train and test\n",
    "test_size = 0.3\n",
    "X_train, X_test, y_train, y_test = train_test_split(X, y, test_size=test_size)"
   ]
  },
  {
   "cell_type": "markdown",
   "metadata": {
    "heading_collapsed": true,
    "hidden": true
   },
   "source": [
    "## Task 1: Implement the sigmoid function "
   ]
  },
  {
   "cell_type": "code",
   "execution_count": 209,
   "metadata": {
    "collapsed": true,
    "hidden": true
   },
   "outputs": [],
   "source": [
    "def sigmoid(t):\n",
    "    \"\"\"\n",
    "    Applies the sigmoid function elementwise to the input data.\n",
    "    \n",
    "    Parameters\n",
    "    ----------\n",
    "    t : array, arbitrary shape\n",
    "        Input data.\n",
    "        \n",
    "    Returns\n",
    "    -------\n",
    "    t_sigmoid : array, arbitrary shape.\n",
    "        Data after applying the sigmoid function.\n",
    "    \"\"\"\n",
    "    return 1.0 / (1.0 + np.exp(-t))\n",
    "    \n",
    "    \n",
    "\n",
    "\n",
    "\n",
    "    \n"
   ]
  },
  {
   "cell_type": "markdown",
   "metadata": {
    "heading_collapsed": true,
    "hidden": true
   },
   "source": [
    "## Task 2: Implement the negative log likelihood"
   ]
  },
  {
   "cell_type": "markdown",
   "metadata": {
    "hidden": true
   },
   "source": [
    "As defined in Eq. 33"
   ]
  },
  {
   "cell_type": "code",
   "execution_count": 210,
   "metadata": {
    "collapsed": true,
    "hidden": true
   },
   "outputs": [],
   "source": [
    "def negative_log_likelihood(X, y, w):\n",
    "    \"\"\"\n",
    "    Negative Log Likelihood of the Logistic Regression.\n",
    "    \n",
    "    Parameters\n",
    "    ----------\n",
    "    X : array, shape [N, D]\n",
    "        (Augmented) feature matrix.\n",
    "    y : array, shape [N]\n",
    "        Classification targets.\n",
    "    w : array, shape [D]\n",
    "        Regression coefficients (w[0] is the bias term).\n",
    "        \n",
    "    Returns\n",
    "    -------\n",
    "    nll : float\n",
    "        The negative log likelihood.\n",
    "    \"\"\"\n",
    "    epsilon = 1e-15\n",
    "    y_pred = sigmoid( X @ w) + epsilon\n",
    "    y_pred = np.clip(y_pred, 1e-10, 1 - 1e-10)\n",
    "    NLL = - np.sum( y *np.log( y_pred ) + (1 - y).T @ np.log(1 - y_pred))\n",
    "    return NLL "
   ]
  },
  {
   "cell_type": "markdown",
   "metadata": {
    "hidden": true
   },
   "source": [
    "### Computing the loss function $\\mathcal{L}(\\mathbf{w})$ (nothing to do here)"
   ]
  },
  {
   "cell_type": "code",
   "execution_count": 211,
   "metadata": {
    "collapsed": true,
    "hidden": true
   },
   "outputs": [],
   "source": [
    "def compute_loss(X, y, w, lmbda):\n",
    "    \"\"\"\n",
    "    Negative Log Likelihood of the Logistic Regression.\n",
    "    \n",
    "    Parameters\n",
    "    ----------\n",
    "    X : array, shape [N, D]\n",
    "        (Augmented) feature matrix.\n",
    "    y : array, shape [N]\n",
    "        Classification targets.\n",
    "    w : array, shape [D]\n",
    "        Regression coefficients (w[0] is the bias term).\n",
    "    lmbda : float\n",
    "        L2 regularization strength.\n",
    "        \n",
    "    Returns\n",
    "    -------\n",
    "    loss : float\n",
    "        Loss of the regularized logistic regression model.\n",
    "    \"\"\"\n",
    "    # The bias term w[0] is not regularized by convention\n",
    "    return negative_log_likelihood(X, y, w) / len(y) + lmbda * 0.5 * np.linalg.norm(w[1:])**2"
   ]
  },
  {
   "cell_type": "markdown",
   "metadata": {
    "heading_collapsed": true,
    "hidden": true
   },
   "source": [
    "## Task 3: Implement the gradient $\\nabla_{\\mathbf{w}}\\mathcal{L}(\\mathbf{w})$"
   ]
  },
  {
   "cell_type": "markdown",
   "metadata": {
    "hidden": true
   },
   "source": [
    "Make sure that you compute the gradient of the loss function $\\mathcal{L}(\\mathbf{w})$ (not simply the NLL!)"
   ]
  },
  {
   "cell_type": "code",
   "execution_count": 212,
   "metadata": {
    "collapsed": true,
    "hidden": true
   },
   "outputs": [],
   "source": [
    "def get_gradient(X, y, w, mini_batch_indices, lmbda):\n",
    "    \"\"\"\n",
    "    Calculates the gradient (full or mini-batch) of the negative log likelilhood w.r.t. w.\n",
    "    \n",
    "    Parameters\n",
    "    ----------\n",
    "    X : array, shape [N, D]\n",
    "        (Augmented) feature matrix.\n",
    "    y : array, shape [N]\n",
    "        Classification targets.\n",
    "    w : array, shape [D]\n",
    "        Regression coefficients (w[0] is the bias term).\n",
    "    mini_batch_indices: array, shape [mini_batch_size]\n",
    "        The indices of the data points to be included in the (stochastic) calculation of the gradient.\n",
    "        This includes the full batch gradient as well, if mini_batch_indices = np.arange(n_train).\n",
    "    lmbda: float\n",
    "        Regularization strentgh. lmbda = 0 means having no regularization.\n",
    "        \n",
    "    Returns\n",
    "    -------\n",
    "    dw : array, shape [D]\n",
    "        Gradient w.r.t. w.\n",
    "    \"\"\"\n",
    "    epsilon = 10e-15\n",
    "    X_batch = X[mini_batch_indices]\n",
    "    y_batch = y[mini_batch_indices]\n",
    "    y_pred = sigmoid(X_batch @ w) + epsilon\n",
    "    y_pred = np.clip(y_pred, 1e-10, 1 - 1e-10)\n",
    "    nll_gradient = - X_batch.T @ (y_pred  - y_batch) \n",
    "    \n",
    "    ones = np.ones(w.shape)\n",
    "    ones[0] = 0\n",
    "    reg_gradient = lmbda * ones * w\n",
    "    grad =  nll_gradient/ mini_batch_indices.shape[0] + reg_gradient  \n",
    "\n",
    "    return grad"
   ]
  },
  {
   "cell_type": "markdown",
   "metadata": {
    "hidden": true
   },
   "source": [
    "### Train the logistic regression model (nothing to do here)"
   ]
  },
  {
   "cell_type": "code",
   "execution_count": 213,
   "metadata": {
    "collapsed": true,
    "hidden": true
   },
   "outputs": [],
   "source": [
    "def logistic_regression(X, y, num_steps, learning_rate, mini_batch_size, lmbda, verbose):\n",
    "    \"\"\"\n",
    "    Performs logistic regression with (stochastic) gradient descent.\n",
    "    \n",
    "    Parameters\n",
    "    ----------\n",
    "    X : array, shape [N, D]\n",
    "        (Augmented) feature matrix.\n",
    "    y : array, shape [N]\n",
    "        Classification targets.\n",
    "    num_steps : int\n",
    "        Number of steps of gradient descent to perform.\n",
    "    learning_rate: float\n",
    "        The learning rate to use when updating the parameters w.\n",
    "    mini_batch_size: int\n",
    "        The number of examples in each mini-batch.\n",
    "        If mini_batch_size=n_train we perform full batch gradient descent. \n",
    "    lmbda: float\n",
    "        Regularization strentgh. lmbda = 0 means having no regularization.\n",
    "    verbose : bool\n",
    "        Whether to print the loss during optimization.\n",
    "        \n",
    "    Returns\n",
    "    -------\n",
    "    w : array, shape [D]\n",
    "        Optimal regression coefficients (w[0] is the bias term).\n",
    "    trace: list\n",
    "        Trace of the loss function after each step of gradient descent.\n",
    "    \"\"\"\n",
    "    \n",
    "    trace = [] # saves the value of loss every 50 iterations to be able to plot it later\n",
    "    n_train = X.shape[0] # number of training instances\n",
    "    \n",
    "    w = np.zeros(X.shape[1]) # initialize the parameters to zeros\n",
    "    \n",
    "    # run gradient descent for a given number of steps\n",
    "    for step in range(num_steps):\n",
    "        permuted_idx = np.random.permutation(n_train) # shuffle the data\n",
    "        \n",
    "        # go over each mini-batch and update the paramters\n",
    "        # if mini_batch_size = n_train we perform full batch GD and this loop runs only once\n",
    "        for idx in range(0, n_train, mini_batch_size):\n",
    "            # get the random indices to be included in the mini batch\n",
    "            mini_batch_indices = permuted_idx[idx:idx+mini_batch_size]\n",
    "            gradient = get_gradient(X, y, w, mini_batch_indices, lmbda)\n",
    "\n",
    "            # update the parameters\n",
    "            w = w - learning_rate * gradient\n",
    "        \n",
    "        # calculate and save the current loss value every 50 iterations\n",
    "        if step % 50 == 0:\n",
    "            loss = compute_loss(X, y, w, lmbda)\n",
    "            trace.append(loss)\n",
    "            # print loss to monitor the progress\n",
    "            if verbose:\n",
    "                print('Step {0}, loss = {1:.4f}'.format(step, loss))\n",
    "    return w, trace"
   ]
  },
  {
   "cell_type": "markdown",
   "metadata": {
    "heading_collapsed": true,
    "hidden": true
   },
   "source": [
    "## Task 4: Implement the function to obtain the predictions"
   ]
  },
  {
   "cell_type": "code",
   "execution_count": 214,
   "metadata": {
    "collapsed": true,
    "hidden": true
   },
   "outputs": [],
   "source": [
    "def predict(X, w):\n",
    "    \"\"\"\n",
    "    Parameters\n",
    "    ----------\n",
    "    X : array, shape [N_test, D]\n",
    "        (Augmented) feature matrix.\n",
    "    w : array, shape [D]\n",
    "        Regression coefficients (w[0] is the bias term).\n",
    "        \n",
    "    Returns\n",
    "    -------\n",
    "    y_pred : array, shape [N_test]\n",
    "        A binary array of predictions.\n",
    "    \"\"\"\n",
    "    # TODO\n",
    "    y_pred = sigmoid( X @ w)\n",
    "    y_pred = np.clip(y_pred, 1e-10, 1 - 1e-10)\n",
    "    return (y_pred > 0.5).astype(int)"
   ]
  },
  {
   "cell_type": "markdown",
   "metadata": {
    "hidden": true
   },
   "source": [
    "### Full batch gradient descent"
   ]
  },
  {
   "cell_type": "code",
   "execution_count": 215,
   "metadata": {
    "collapsed": true,
    "hidden": true
   },
   "outputs": [],
   "source": [
    "# Change this to True if you want to see loss values over iterations.\n",
    "verbose = True"
   ]
  },
  {
   "cell_type": "code",
   "execution_count": 216,
   "metadata": {
    "collapsed": true,
    "hidden": true
   },
   "outputs": [
    {
     "name": "stdout",
     "output_type": "stream",
     "text": [
      "Step 0, loss = 240.1391\n",
      "Step 50, loss = 3315.7275\n",
      "Step 100, loss = 3315.7425\n",
      "Step 150, loss = 3315.7676\n",
      "Step 200, loss = 3315.8027\n",
      "Step 250, loss = 3315.8478\n",
      "Step 300, loss = 3315.9030\n",
      "Step 350, loss = 3315.9683\n",
      "Step 400, loss = 3316.0436\n",
      "Step 450, loss = 3316.1290\n",
      "Step 500, loss = 3316.2243\n",
      "Step 550, loss = 3316.3298\n",
      "Step 600, loss = 3316.4452\n",
      "Step 650, loss = 3316.5707\n",
      "Step 700, loss = 3316.7063\n",
      "Step 750, loss = 3316.8518\n",
      "Step 800, loss = 3317.0075\n",
      "Step 850, loss = 3317.1731\n",
      "Step 900, loss = 3317.3488\n",
      "Step 950, loss = 3317.5344\n",
      "Step 1000, loss = 3317.7302\n",
      "Step 1050, loss = 3317.9359\n",
      "Step 1100, loss = 3318.1517\n",
      "Step 1150, loss = 3318.3775\n",
      "Step 1200, loss = 3318.6133\n",
      "Step 1250, loss = 3318.8591\n",
      "Step 1300, loss = 3319.1150\n",
      "Step 1350, loss = 3319.3808\n",
      "Step 1400, loss = 3319.6567\n",
      "Step 1450, loss = 3319.9426\n",
      "Step 1500, loss = 3320.2385\n",
      "Step 1550, loss = 3320.5444\n",
      "Step 1600, loss = 3320.8603\n",
      "Step 1650, loss = 3321.1863\n",
      "Step 1700, loss = 3321.5222\n",
      "Step 1750, loss = 3321.8681\n",
      "Step 1800, loss = 3322.2241\n",
      "Step 1850, loss = 3322.5900\n",
      "Step 1900, loss = 3322.9660\n",
      "Step 1950, loss = 3323.3519\n",
      "Step 2000, loss = 3323.7478\n",
      "Step 2050, loss = 3324.1538\n",
      "Step 2100, loss = 3324.5697\n",
      "Step 2150, loss = 3324.9956\n",
      "Step 2200, loss = 3325.4315\n",
      "Step 2250, loss = 3325.8774\n",
      "Step 2300, loss = 3326.3333\n",
      "Step 2350, loss = 3326.7992\n",
      "Step 2400, loss = 3327.2750\n",
      "Step 2450, loss = 3327.7609\n",
      "Step 2500, loss = 3328.2567\n",
      "Step 2550, loss = 3328.7625\n",
      "Step 2600, loss = 3329.2782\n",
      "Step 2650, loss = 3329.8040\n",
      "Step 2700, loss = 3330.3397\n",
      "Step 2750, loss = 3330.8854\n",
      "Step 2800, loss = 3331.4411\n",
      "Step 2850, loss = 3332.0068\n",
      "Step 2900, loss = 3332.5824\n",
      "Step 2950, loss = 3333.1680\n",
      "Step 3000, loss = 3333.7635\n",
      "Step 3050, loss = 3334.3690\n",
      "Step 3100, loss = 3334.9845\n",
      "Step 3150, loss = 3335.6099\n",
      "Step 3200, loss = 3336.2453\n",
      "Step 3250, loss = 3336.8907\n",
      "Step 3300, loss = 3337.5460\n",
      "Step 3350, loss = 3338.2113\n",
      "Step 3400, loss = 3338.8865\n",
      "Step 3450, loss = 3339.5717\n",
      "Step 3500, loss = 3340.2668\n",
      "Step 3550, loss = 3340.9719\n",
      "Step 3600, loss = 3341.6870\n",
      "Step 3650, loss = 3342.4119\n",
      "Step 3700, loss = 3343.1469\n",
      "Step 3750, loss = 3343.8917\n",
      "Step 3800, loss = 3344.6465\n",
      "Step 3850, loss = 3345.4113\n",
      "Step 3900, loss = 3346.1860\n",
      "Step 3950, loss = 3346.9706\n",
      "Step 4000, loss = 3347.7652\n",
      "Step 4050, loss = 3348.5697\n",
      "Step 4100, loss = 3349.3841\n",
      "Step 4150, loss = 3350.2085\n",
      "Step 4200, loss = 3351.0428\n",
      "Step 4250, loss = 3351.8870\n",
      "Step 4300, loss = 3352.7412\n",
      "Step 4350, loss = 3353.6053\n",
      "Step 4400, loss = 3354.4793\n",
      "Step 4450, loss = 3355.3632\n",
      "Step 4500, loss = 3356.2570\n",
      "Step 4550, loss = 3357.1608\n",
      "Step 4600, loss = 3358.0745\n",
      "Step 4650, loss = 3358.9981\n",
      "Step 4700, loss = 3359.9316\n",
      "Step 4750, loss = 3360.8751\n",
      "Step 4800, loss = 3361.8284\n",
      "Step 4850, loss = 3362.7917\n",
      "Step 4900, loss = 3363.7648\n",
      "Step 4950, loss = 3364.7479\n",
      "Step 5000, loss = 3365.7409\n",
      "Step 5050, loss = 3366.7438\n",
      "Step 5100, loss = 3367.7566\n",
      "Step 5150, loss = 3368.7793\n",
      "Step 5200, loss = 3369.8119\n",
      "Step 5250, loss = 3370.8544\n",
      "Step 5300, loss = 3371.9068\n",
      "Step 5350, loss = 3372.9691\n",
      "Step 5400, loss = 3374.0413\n",
      "Step 5450, loss = 3375.1233\n",
      "Step 5500, loss = 3376.2153\n",
      "Step 5550, loss = 3377.3172\n",
      "Step 5600, loss = 3378.4289\n",
      "Step 5650, loss = 3379.5505\n",
      "Step 5700, loss = 3380.6821\n",
      "Step 5750, loss = 3381.8235\n",
      "Step 5800, loss = 3382.9748\n",
      "Step 5850, loss = 3384.1359\n",
      "Step 5900, loss = 3385.3070\n",
      "Step 5950, loss = 3386.4879\n",
      "Step 6000, loss = 3387.6787\n",
      "Step 6050, loss = 3388.8794\n",
      "Step 6100, loss = 3390.0900\n",
      "Step 6150, loss = 3391.3104\n",
      "Step 6200, loss = 3392.5407\n",
      "Step 6250, loss = 3393.7809\n",
      "Step 6300, loss = 3395.0309\n",
      "Step 6350, loss = 3396.2908\n",
      "Step 6400, loss = 3397.5606\n",
      "Step 6450, loss = 3398.8402\n",
      "Step 6500, loss = 3400.1297\n",
      "Step 6550, loss = 3401.4291\n",
      "Step 6600, loss = 3402.7383\n",
      "Step 6650, loss = 3404.0573\n",
      "Step 6700, loss = 3405.3863\n",
      "Step 6750, loss = 3406.7250\n",
      "Step 6800, loss = 3408.0737\n",
      "Step 6850, loss = 3409.4322\n",
      "Step 6900, loss = 3410.8005\n",
      "Step 6950, loss = 3412.1787\n",
      "Step 7000, loss = 3413.5667\n",
      "Step 7050, loss = 3414.9646\n",
      "Step 7100, loss = 3416.3723\n",
      "Step 7150, loss = 3417.7899\n",
      "Step 7200, loss = 3419.2173\n",
      "Step 7250, loss = 3420.6546\n",
      "Step 7300, loss = 3422.1016\n",
      "Step 7350, loss = 3423.5586\n",
      "Step 7400, loss = 3425.0253\n",
      "Step 7450, loss = 3426.5019\n",
      "Step 7500, loss = 3427.9883\n",
      "Step 7550, loss = 3429.4846\n",
      "Step 7600, loss = 3430.9907\n",
      "Step 7650, loss = 3432.5066\n",
      "Step 7700, loss = 3434.0323\n",
      "Step 7750, loss = 3435.5679\n",
      "Step 7800, loss = 3437.1133\n",
      "Step 7850, loss = 3438.6685\n",
      "Step 7900, loss = 3440.2335\n",
      "Step 7950, loss = 3441.8084\n"
     ]
    }
   ],
   "source": [
    "n_train = X_train.shape[0]\n",
    "w_full, trace_full = logistic_regression(X_train, \n",
    "                                         y_train, \n",
    "                                         num_steps=8000, \n",
    "                                         learning_rate=1e-5, \n",
    "                                         mini_batch_size=n_train, \n",
    "                                         lmbda=0.1,\n",
    "                                         verbose=verbose)"
   ]
  },
  {
   "cell_type": "code",
   "execution_count": 217,
   "metadata": {
    "collapsed": true,
    "hidden": true
   },
   "outputs": [
    {
     "name": "stdout",
     "output_type": "stream",
     "text": [
      "Step 0, loss = 3315.7226\n",
      "Step 50, loss = 3316.0549\n",
      "Step 100, loss = 3317.0299\n",
      "Step 150, loss = 3318.6471\n",
      "Step 200, loss = 3320.9055\n",
      "Step 250, loss = 3323.8046\n",
      "Step 300, loss = 3327.3421\n",
      "Step 350, loss = 3331.5194\n",
      "Step 400, loss = 3336.3346\n",
      "Step 450, loss = 3341.7872\n",
      "Step 500, loss = 3347.8785\n",
      "Step 550, loss = 3354.6036\n",
      "Step 600, loss = 3361.9633\n",
      "Step 650, loss = 3369.9578\n",
      "Step 700, loss = 3378.5851\n",
      "Step 750, loss = 3387.8464\n",
      "Step 800, loss = 3397.7399\n",
      "Step 850, loss = 3408.2617\n",
      "Step 900, loss = 3419.4175\n",
      "Step 950, loss = 3431.1996\n",
      "Step 1000, loss = 3443.6148\n",
      "Step 1050, loss = 3456.6504\n",
      "Step 1100, loss = 3470.3148\n",
      "Step 1150, loss = 3484.6117\n",
      "Step 1200, loss = 3499.5328\n",
      "Step 1250, loss = 3515.0787\n",
      "Step 1300, loss = 3531.2510\n",
      "Step 1350, loss = 3548.0476\n",
      "Step 1400, loss = 3565.4615\n",
      "Step 1450, loss = 3583.5057\n",
      "Step 1500, loss = 3602.1665\n",
      "Step 1550, loss = 3621.4495\n",
      "Step 1600, loss = 3641.3475\n",
      "Step 1650, loss = 3661.8665\n",
      "Step 1700, loss = 3683.0052\n",
      "Step 1750, loss = 3704.7619\n",
      "Step 1800, loss = 3727.1365\n",
      "Step 1850, loss = 3750.1289\n",
      "Step 1900, loss = 3773.7321\n",
      "Step 1950, loss = 3797.9525\n",
      "Step 2000, loss = 3822.7862\n",
      "Step 2050, loss = 3848.2395\n",
      "Step 2100, loss = 3874.2961\n",
      "Step 2150, loss = 3900.9655\n",
      "Step 2200, loss = 3928.2486\n",
      "Step 2250, loss = 3956.1454\n",
      "Step 2300, loss = 3984.6442\n",
      "Step 2350, loss = 4013.7503\n",
      "Step 2400, loss = 4043.4692\n",
      "Step 2450, loss = 4073.7920\n",
      "Step 2500, loss = 4104.7228\n",
      "Step 2550, loss = 4136.2652\n",
      "Step 2600, loss = 4168.4015\n",
      "Step 2650, loss = 4201.1525\n",
      "Step 2700, loss = 4234.5100\n",
      "Step 2750, loss = 4268.4571\n",
      "Step 2800, loss = 4303.0168\n",
      "Step 2850, loss = 4338.1757\n",
      "Step 2900, loss = 4373.9296\n",
      "Step 2950, loss = 4410.2820\n",
      "Step 3000, loss = 4447.2414\n",
      "Step 3050, loss = 4484.8040\n",
      "Step 3100, loss = 4522.9587\n",
      "Step 3150, loss = 4561.7018\n",
      "Step 3200, loss = 4601.0435\n",
      "Step 3250, loss = 4640.9925\n",
      "Step 3300, loss = 4681.5343\n",
      "Step 3350, loss = 4722.6690\n",
      "Step 3400, loss = 4764.4014\n",
      "Step 3450, loss = 4806.7183\n",
      "Step 3500, loss = 4849.6317\n",
      "Step 3550, loss = 4893.1353\n",
      "Step 3600, loss = 4937.2243\n",
      "Step 3650, loss = 4981.9029\n",
      "Step 3700, loss = 5027.1737\n",
      "Step 3750, loss = 5073.0243\n",
      "Step 3800, loss = 5119.4607\n",
      "Step 3850, loss = 5166.4858\n",
      "Step 3900, loss = 5214.1107\n",
      "Step 3950, loss = 5262.3120\n",
      "Step 4000, loss = 5311.0969\n",
      "Step 4050, loss = 5360.4821\n",
      "Step 4100, loss = 5410.4447\n",
      "Step 4150, loss = 5460.9819\n",
      "Step 4200, loss = 5512.1114\n",
      "Step 4250, loss = 5563.8163\n",
      "Step 4300, loss = 5616.0864\n",
      "Step 4350, loss = 5668.9477\n",
      "Step 4400, loss = 5722.3867\n",
      "Step 4450, loss = 5776.4045\n",
      "Step 4500, loss = 5831.0039\n",
      "Step 4550, loss = 5886.1767\n",
      "Step 4600, loss = 5941.9319\n",
      "Step 4650, loss = 5998.2635\n",
      "Step 4700, loss = 6055.1592\n",
      "Step 4750, loss = 6112.6346\n",
      "Step 4800, loss = 6170.6751\n",
      "Step 4850, loss = 6229.3030\n",
      "Step 4900, loss = 6288.4948\n",
      "Step 4950, loss = 6348.2512\n",
      "Step 5000, loss = 6408.5721\n",
      "Step 5050, loss = 6469.4975\n",
      "Step 5100, loss = 6530.9710\n",
      "Step 5150, loss = 6593.0250\n",
      "Step 5200, loss = 6655.6449\n",
      "Step 5250, loss = 6718.8218\n",
      "Step 5300, loss = 6782.5540\n",
      "Step 5350, loss = 6846.8812\n",
      "Step 5400, loss = 6911.7566\n",
      "Step 5450, loss = 6977.2030\n",
      "Step 5500, loss = 7043.2038\n",
      "Step 5550, loss = 7109.7563\n",
      "Step 5600, loss = 7176.8813\n",
      "Step 5650, loss = 7244.5802\n",
      "Step 5700, loss = 7312.8264\n",
      "Step 5750, loss = 7381.6623\n",
      "Step 5800, loss = 7451.0437\n",
      "Step 5850, loss = 7520.9896\n",
      "Step 5900, loss = 7591.4589\n",
      "Step 5950, loss = 7662.4983\n",
      "Step 6000, loss = 7734.0908\n",
      "Step 6050, loss = 7806.2602\n",
      "Step 6100, loss = 7878.9539\n",
      "Step 6150, loss = 7952.2144\n",
      "Step 6200, loss = 8026.0301\n",
      "Step 6250, loss = 8100.4206\n",
      "Step 6300, loss = 8175.3301\n",
      "Step 6350, loss = 8250.8079\n",
      "Step 6400, loss = 8326.8253\n",
      "Step 6450, loss = 8403.4142\n",
      "Step 6500, loss = 8480.5490\n",
      "Step 6550, loss = 8558.2200\n",
      "Step 6600, loss = 8636.4594\n",
      "Step 6650, loss = 8715.2357\n",
      "Step 6700, loss = 8794.5642\n",
      "Step 6750, loss = 8874.4467\n",
      "Step 6800, loss = 8954.8493\n",
      "Step 6850, loss = 9035.8026\n",
      "Step 6900, loss = 9117.3108\n",
      "Step 6950, loss = 9199.3746\n",
      "Step 7000, loss = 9281.9593\n",
      "Step 7050, loss = 9365.0784\n",
      "Step 7100, loss = 9448.7449\n",
      "Step 7150, loss = 9532.9309\n",
      "Step 7200, loss = 9617.6786\n",
      "Step 7250, loss = 9702.9638\n",
      "Step 7300, loss = 9788.8019\n",
      "Step 7350, loss = 9875.1665\n",
      "Step 7400, loss = 9962.0753\n",
      "Step 7450, loss = 10049.5193\n",
      "Step 7500, loss = 10137.5155\n",
      "Step 7550, loss = 10226.0290\n",
      "Step 7600, loss = 10315.0646\n",
      "Step 7650, loss = 10404.6484\n",
      "Step 7700, loss = 10494.7689\n",
      "Step 7750, loss = 10585.4384\n",
      "Step 7800, loss = 10676.6069\n",
      "Step 7850, loss = 10768.3106\n",
      "Step 7900, loss = 10860.5648\n",
      "Step 7950, loss = 10953.3155\n"
     ]
    }
   ],
   "source": [
    "n_train = X_train.shape[0]\n",
    "w_minibatch, trace_minibatch = logistic_regression(X_train, \n",
    "                                                   y_train, \n",
    "                                                   num_steps=8000, \n",
    "                                                   learning_rate=1e-5, \n",
    "                                                   mini_batch_size=50, \n",
    "                                                   lmbda=0.1,\n",
    "                                                   verbose=verbose)"
   ]
  },
  {
   "cell_type": "markdown",
   "metadata": {
    "hidden": true
   },
   "source": [
    "Our reference solution produces, but don't worry if yours is not exactly the same. \n",
    "\n",
    "    Full batch: accuracy: 0.9240, f1_score: 0.9384\n",
    "    Mini-batch: accuracy: 0.9415, f1_score: 0.9533"
   ]
  },
  {
   "cell_type": "code",
   "execution_count": 218,
   "metadata": {
    "collapsed": true,
    "hidden": true
   },
   "outputs": [
    {
     "name": "stdout",
     "output_type": "stream",
     "text": [
      "Full batch: accuracy: 0.6023, f1_score: 0.7518\n",
      "Mini-batch: accuracy: 0.6023, f1_score: 0.7518\n"
     ]
    }
   ],
   "source": [
    "y_pred_full = predict(X_test, w_full)\n",
    "y_pred_minibatch = predict(X_test, w_minibatch)\n",
    "\n",
    "print('Full batch: accuracy: {:.4f}, f1_score: {:.4f}'\n",
    "      .format(accuracy_score(y_test, y_pred_full), f1_score(y_test, y_pred_full)))\n",
    "print('Mini-batch: accuracy: {:.4f}, f1_score: {:.4f}'\n",
    "      .format(accuracy_score(y_test, y_pred_minibatch), f1_score(y_test, y_pred_minibatch)))"
   ]
  },
  {
   "cell_type": "code",
   "execution_count": 219,
   "metadata": {
    "hidden": true
   },
   "outputs": [
    {
     "data": {
      "image/png": "[encoded data removed]",
      "text/plain": [
       "<Figure size 1500x1000 with 1 Axes>"
      ]
     },
     "metadata": {},
     "output_type": "display_data"
    }
   ],
   "source": [
    "plt.figure(figsize=[15, 10])\n",
    "plt.plot(trace_full, label='Full batch')\n",
    "plt.plot(trace_minibatch, label='Mini-batch')\n",
    "plt.xlabel('Iterations * 50')\n",
    "plt.ylabel('Loss $\\mathcal{L}(\\mathbf{w})$')\n",
    "plt.legend()\n",
    "plt.show()"
   ]
  }
 ],
 "metadata": {
  "anaconda-cloud": {},
  "kernelspec": {
   "display_name": "mlgs",
   "language": "python",
   "name": "python3"
  },
  "language_info": {
   "codemirror_mode": {
    "name": "ipython",
    "version": 3
   },
   "file_extension": ".py",
   "mimetype": "text/x-python",
   "name": "python",
   "nbconvert_exporter": "python",
   "pygments_lexer": "ipython3",
   "version": "3.10.11"
  },
  "vscode": {
   "interpreter": {
    "hash": "96b7b0d329cf5683ac1ca3c55435cf7af1bfbb9612e6ddb0d4fb90ac355a0d69"
   }
  }
 },
 "nbformat": 4,
 "nbformat_minor": 1
}
